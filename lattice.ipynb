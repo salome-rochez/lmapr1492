{
 "cells": [
  {
   "cell_type": "code",
   "execution_count": 80,
   "id": "ed6fd2b6",
   "metadata": {},
   "outputs": [],
   "source": [
    "#Différents imports\n",
    "\n",
    "from pymatgen import Structure\n",
    "from pymatgen.symmetry.analyzer import SpacegroupAnalyzer\n",
    "from jupyter_jsmol.pymatgen import quick_view\n",
    "from pymatgen.ext.matproj import MPRester\n"
   ]
  },
  {
   "cell_type": "code",
   "execution_count": 81,
   "id": "755b1b97",
   "metadata": {},
   "outputs": [
    {
     "data": {
      "application/vnd.jupyter.widget-view+json": {
       "model_id": "cd4f83f0152c4c50b1d7289da2700c2e",
       "version_major": 2,
       "version_minor": 0
      },
      "text/plain": [
       "JsmolView(layout=Layout(align_self='stretch', height='400px'))"
      ]
     },
     "metadata": {},
     "output_type": "display_data"
    }
   ],
   "source": [
    "#Téléchargement du fichier CIF\n",
    "\n",
    "with MPRester(\"1fhLOrkpiXoSTmqx\") as m :\n",
    "    structure = m.get_structure_by_material_id(\"mp-30847\") # ID du TiSnPt\n",
    "    struc = SpacegroupAnalyzer(structure)\n",
    "con_struct = struc.get_conventional_standard_structure() # conventionnel \n",
    "symmetrized_struct = struc.get_symmetrized_structure() # symetrique \n",
    "view = quick_view(symmetrized_struct, conventional = False)\n",
    "display(view)"
   ]
  },
  {
   "cell_type": "code",
   "execution_count": 82,
   "id": "3051b696",
   "metadata": {},
   "outputs": [
    {
     "name": "stdout",
     "output_type": "stream",
     "text": [
      "[[6.23182200e+00 0.00000000e+00 3.81589043e-16]\n",
      " [1.00215341e-15 6.23182200e+00 3.81589043e-16]\n",
      " [0.00000000e+00 0.00000000e+00 6.23182200e+00]]\n",
      "# # # # # # # # # # # # # # # # # # # # # # # # # # # # # # \n",
      "a = [6.23182200e+00 0.00000000e+00 3.81589043e-16]\n",
      "b = [1.00215341e-15 6.23182200e+00 3.81589043e-16]\n",
      "c = [0.       0.       6.231822]\n"
     ]
    }
   ],
   "source": [
    "#Vecteurs de bases des ses réseaux direct\n",
    "\n",
    "matrix = con_struct.lattice.matrix\n",
    "print(matrix)\n",
    "print (\"# # # # # # # # # # # # # # # # # # # # # # # # # # # # # # \")\n",
    "print(\"a =\",matrix[0])\n",
    "print(\"b =\",matrix[1])\n",
    "print(\"c =\",matrix[2])\n",
    "\n",
    "# Commentaire : je trouve étrange le fait que les valeurs de la troisimème composante de a ainsi que la premiere \n",
    "#              et la troisième composante de b soit différentes de 0 ( ."
   ]
  },
  {
   "cell_type": "code",
   "execution_count": 83,
   "id": "2f453d8d",
   "metadata": {},
   "outputs": [
    {
     "name": "stdout",
     "output_type": "stream",
     "text": [
      "[[ 1.00824210e+00 -1.62137696e-16  0.00000000e+00]\n",
      " [ 0.00000000e+00  1.00824210e+00  0.00000000e+00]\n",
      " [-6.17370231e-17 -6.17370231e-17  1.00824210e+00]]\n",
      "# # # # # # # # # # # # # # # # # # # # # # # # # # # # # # \n",
      "h = [ 1.00824210e+00 -1.62137696e-16  0.00000000e+00]\n",
      "k = [0.        1.0082421 0.       ]\n",
      "l = [-6.17370231e-17 -6.17370231e-17  1.00824210e+00]\n"
     ]
    }
   ],
   "source": [
    "#Vecteurs de bases des ses réseaux réciproque\n",
    "rec_lattice=con_struct.lattice.reciprocal_lattice.matrix\n",
    "print(rec_lattice)\n",
    "print (\"# # # # # # # # # # # # # # # # # # # # # # # # # # # # # # \")\n",
    "print(\"h =\",rec_lattice[0])\n",
    "print(\"k =\",rec_lattice[1])\n",
    "print(\"l =\",rec_lattice[2])\n",
    "\n"
   ]
  },
  {
   "cell_type": "code",
   "execution_count": 84,
   "id": "9223e16a",
   "metadata": {},
   "outputs": [
    {
     "name": "stdout",
     "output_type": "stream",
     "text": [
      "Type de maille :  F\n"
     ]
    }
   ],
   "source": [
    "# Type de maille \n",
    "maille = struc.get_space_group_symbol()[0]\n",
    "print(\"Type de maille : \", maille)"
   ]
  },
  {
   "cell_type": "code",
   "execution_count": 85,
   "id": "a13c273e",
   "metadata": {},
   "outputs": [
    {
     "name": "stdout",
     "output_type": "stream",
     "text": [
      "système cristallin :  cubic\n"
     ]
    }
   ],
   "source": [
    "#Système cristallin \n",
    "crystal = struc.get_crystal_system()\n",
    "print(\"système cristallin : \" ,crystal)"
   ]
  },
  {
   "cell_type": "code",
   "execution_count": 86,
   "id": "c4be28ff",
   "metadata": {},
   "outputs": [
    {
     "name": "stdout",
     "output_type": "stream",
     "text": [
      "groupe ponctuel :  -43m\n"
     ]
    }
   ],
   "source": [
    "# Groupe ponctuel\n",
    "group = struc.get_point_group_symbol()\n",
    "print(\"groupe ponctuel : \" ,group)"
   ]
  }
 ],
 "metadata": {
  "kernelspec": {
   "display_name": "Python 3",
   "language": "python",
   "name": "python3"
  },
  "language_info": {
   "codemirror_mode": {
    "name": "ipython",
    "version": 3
   },
   "file_extension": ".py",
   "mimetype": "text/x-python",
   "name": "python",
   "nbconvert_exporter": "python",
   "pygments_lexer": "ipython3",
   "version": "3.6.8"
  }
 },
 "nbformat": 4,
 "nbformat_minor": 5
}
