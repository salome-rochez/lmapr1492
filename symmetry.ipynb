{
 "cells": [
  {
   "cell_type": "code",
   "execution_count": 28,
   "id": "5aa5e419",
   "metadata": {},
   "outputs": [],
   "source": [
    "#Différents imports\n",
    "\n",
    "from pymatgen import Structure\n",
    "from pymatgen.symmetry.analyzer import PointGroupAnalyzer\n",
    "from pymatgen.symmetry.analyzer import SpacegroupAnalyzer\n",
    "from jupyter_jsmol.pymatgen import quick_view\n",
    "from pymatgen.ext.matproj import MPRester\n"
   ]
  },
  {
   "cell_type": "code",
   "execution_count": 29,
   "id": "d7ac416c",
   "metadata": {},
   "outputs": [],
   "source": [
    "#Téléchargement du fichier CIF\n",
    "\n",
    "with MPRester(\"1fhLOrkpiXoSTmqx\") as m :\n",
    "    structure = m.get_structure_by_material_id(\"mp-30847\") # ID du TiSnPt\n",
    "    struc = SpacegroupAnalyzer(structure)\n",
    "con_struct = struc.get_conventional_standard_structure() # conventionnel \n",
    "symmetrized_struct = struc.get_symmetrized_structure() # symetrique \n",
    "#²view = quick_view(symmetrized_struct, conventional = False)\n",
    "#display(view)"
   ]
  },
  {
   "cell_type": "markdown",
   "id": "4c463de0",
   "metadata": {},
   "source": [
    "#  Tâche 6 : \n",
    " Etudier l’effet de 3 éléments de symétrie différents (pas l’identité) chacun pour 1 atome différent "
   ]
  },
  {
   "cell_type": "markdown",
   "id": "6a6c5a2b",
   "metadata": {},
   "source": [
    "La première cellule me permet de connaitre la postion exacte de chaque atome dans la maille conventionnelle."
   ]
  },
  {
   "cell_type": "code",
   "execution_count": 30,
   "id": "85685919",
   "metadata": {
    "scrolled": true
   },
   "outputs": [
    {
     "name": "stdout",
     "output_type": "stream",
     "text": [
      "[0. 0. 0.]\n",
      "[0.  0.5 0.5]\n",
      "[0.5 0.  0.5]\n",
      "[0.5 0.5 0. ]\n",
      "[0.5 0.  0. ]\n",
      "[0.5 0.5 0.5]\n",
      "[0.  0.  0.5]\n",
      "[0.  0.5 0. ]\n",
      "[0.25 0.25 0.75]\n",
      "[0.25 0.75 0.25]\n",
      "[0.75 0.25 0.25]\n",
      "[0.75 0.75 0.75]\n"
     ]
    }
   ],
   "source": [
    "#Position de chaque atome\n",
    "\n",
    "for i in range (len(con_struct.sites)):\n",
    "    print(con_struct.sites[i].frac_coords)"
   ]
  },
  {
   "cell_type": "markdown",
   "id": "17feb373",
   "metadata": {},
   "source": [
    "La cellule suivante me permet de connaitre toutes les opérations possibles "
   ]
  },
  {
   "cell_type": "code",
   "execution_count": 31,
   "id": "369135db",
   "metadata": {},
   "outputs": [],
   "source": [
    "op = struc.get_point_group_operations(cartesian=False)\n",
    "#print(op)"
   ]
  },
  {
   "cell_type": "markdown",
   "id": "0fbf7c91",
   "metadata": {},
   "source": [
    "\n",
    "# Première symétrie :\n",
    "J'applique une rotation d'axe (0,-1,-1) sur l'atome de Ti . "
   ]
  },
  {
   "cell_type": "code",
   "execution_count": 32,
   "id": "11e80469",
   "metadata": {
    "scrolled": true
   },
   "outputs": [
    {
     "data": {
      "application/vnd.jupyter.widget-view+json": {
       "model_id": "7618e5027c2145e586f1943fc63d2f7a",
       "version_major": 2,
       "version_minor": 0
      },
      "text/plain": [
       "JsmolView(layout=Layout(align_self='stretch', height='400px'))"
      ]
     },
     "metadata": {},
     "output_type": "display_data"
    }
   ],
   "source": [
    "view = quick_view(con_struct,supercell= [1,1,1])\n",
    "display(view)\n",
    "view.script('draw symop 5 {atomno=38}; select atomno = 38; label on; color green')\n",
    "#view.script('select titanium; label on ; color green')"
   ]
  },
  {
   "cell_type": "code",
   "execution_count": 33,
   "id": "1a7d5e86",
   "metadata": {},
   "outputs": [
    {
     "name": "stdout",
     "output_type": "stream",
     "text": [
      "Coordonnées de base : [0.  0.5 0.5]\n",
      "Coordonnées après la symétrie : [ 0.  -1.   0.5]\n"
     ]
    }
   ],
   "source": [
    "#Calculs \n",
    "atome1 = con_struct.sites[1].frac_coords\n",
    "ope1 = op[5]\n",
    "solution1 = ope1.operate(atome1)\n",
    "print(\"Coordonnées de base : \" + str(atome1))\n",
    "print(\"Coordonnées après la symétrie : \" + str(solution1))"
   ]
  },
  {
   "cell_type": "markdown",
   "id": "493d0e5c",
   "metadata": {},
   "source": [
    "# Deuxième symétrie :\n",
    "J'applique un plan mirroir (1,1,1) sur l'atome de Sn ."
   ]
  },
  {
   "cell_type": "code",
   "execution_count": 34,
   "id": "20b68196",
   "metadata": {},
   "outputs": [
    {
     "data": {
      "application/vnd.jupyter.widget-view+json": {
       "model_id": "c34b2e12179a469ebcd86bc228147ed8",
       "version_major": 2,
       "version_minor": 0
      },
      "text/plain": [
       "JsmolView(layout=Layout(align_self='stretch', height='400px'))"
      ]
     },
     "metadata": {},
     "output_type": "display_data"
    }
   ],
   "source": [
    "view = quick_view(con_struct,supercell= [1,1, 1])\n",
    "display(view)\n",
    "view.script('draw symop 14  {atomno=13}; select atomno = 13; label on; color green')\n",
    "#view.script('select tin ; label on ; color green')"
   ]
  },
  {
   "cell_type": "code",
   "execution_count": 35,
   "id": "9be6b69a",
   "metadata": {},
   "outputs": [
    {
     "name": "stdout",
     "output_type": "stream",
     "text": [
      "Coordonnées de base : [0.5 0.  0. ]\n",
      "Coordonnées après la symétrie : [ 0.   0.  -0.5]\n"
     ]
    }
   ],
   "source": [
    "#Calculs \n",
    "atome2 = con_struct.sites[4].frac_coords\n",
    "ope2 = op[14]\n",
    "solution2 = ope2.operate(atome2)\n",
    "print(\"Coordonnées de base : \" + str(atome2))\n",
    "print(\"Coordonnées après la symétrie : \" + str(solution2))"
   ]
  },
  {
   "cell_type": "markdown",
   "id": "fc17740e",
   "metadata": {},
   "source": [
    "# Troisième symétrie :\n",
    "J'applique une inversion sur l'atome de Pt "
   ]
  },
  {
   "cell_type": "code",
   "execution_count": 36,
   "id": "0374fcb9",
   "metadata": {},
   "outputs": [
    {
     "data": {
      "application/vnd.jupyter.widget-view+json": {
       "model_id": "23a1611eb44d45a29657eb4e0c8b2e80",
       "version_major": 2,
       "version_minor": 0
      },
      "text/plain": [
       "JsmolView(layout=Layout(align_self='stretch', height='400px'))"
      ]
     },
     "metadata": {},
     "output_type": "display_data"
    }
   ],
   "source": [
    "view = quick_view(con_struct,supercell= [1,1, 1])\n",
    "display(view)\n",
    "view.script('draw symop 18 {atomno=6}; select atomno = 6; label on; color green')\n",
    "#view.script('select platinum ; label on ; color green')"
   ]
  },
  {
   "cell_type": "code",
   "execution_count": 37,
   "id": "1b930731",
   "metadata": {},
   "outputs": [
    {
     "name": "stdout",
     "output_type": "stream",
     "text": [
      "Coordonnées de base : [0.25 0.75 0.25]\n",
      "Coordonnées après la symétrie : [-1.25  0.75  0.25]\n"
     ]
    }
   ],
   "source": [
    "#Calculs \n",
    "atome3 = con_struct.sites[9].frac_coords\n",
    "ope3 = op[18]\n",
    "solution3 = ope3.operate(atome3)\n",
    "print(\"Coordonnées de base : \" + str(atome3))\n",
    "print(\"Coordonnées après la symétrie : \" + str(solution3))"
   ]
  }
 ],
 "metadata": {
  "kernelspec": {
   "display_name": "Python 3",
   "language": "python",
   "name": "python3"
  },
  "language_info": {
   "codemirror_mode": {
    "name": "ipython",
    "version": 3
   },
   "file_extension": ".py",
   "mimetype": "text/x-python",
   "name": "python",
   "nbconvert_exporter": "python",
   "pygments_lexer": "ipython3",
   "version": "3.6.8"
  }
 },
 "nbformat": 4,
 "nbformat_minor": 5
}
